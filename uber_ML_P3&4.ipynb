{
  "nbformat": 4,
  "nbformat_minor": 0,
  "metadata": {
    "colab": {
      "provenance": []
    },
    "kernelspec": {
      "name": "python3",
      "display_name": "Python 3"
    },
    "language_info": {
      "name": "python"
    }
  },
  "cells": [
    {
      "cell_type": "code",
      "execution_count": null,
      "metadata": {
        "id": "UIwZrvO9nlp5"
      },
      "outputs": [],
      "source": [
        "import pandas as pd\n",
        "import numpy as np"
      ]
    },
    {
      "cell_type": "code",
      "source": [
        "uber_data  = pd.read_csv(\"/content/uber.csv\")"
      ],
      "metadata": {
        "id": "2FtP333JFyGC"
      },
      "execution_count": null,
      "outputs": []
    },
    {
      "cell_type": "code",
      "source": [
        "# Check for missing values\n",
        "missing_values = uber_data.isnull().sum()\n",
        "print(missing_values)\n",
        "\n",
        "# Remove rows with missing values\n",
        "uber_data = uber_data.dropna()\n",
        "\n",
        "# Check for duplicates\n",
        "duplicates = uber_data.duplicated().sum()\n",
        "print(f\"Number of duplicates: {duplicates}\")\n",
        "\n",
        "# Convert date and time string to datetime\n",
        "uber_data['pickup_datetime'] = pd.to_datetime(uber_data['pickup_datetime'])\n"
      ],
      "metadata": {
        "colab": {
          "base_uri": "https://localhost:8080/"
        },
        "id": "RkY_vvKzG2yv",
        "outputId": "3bd1f0c2-2838-49fa-90ac-a1402e4b34c9"
      },
      "execution_count": null,
      "outputs": [
        {
          "output_type": "stream",
          "name": "stdout",
          "text": [
            "Unnamed: 0           0\n",
            "key                  0\n",
            "fare_amount          0\n",
            "pickup_datetime      0\n",
            "pickup_longitude     0\n",
            "pickup_latitude      0\n",
            "dropoff_longitude    1\n",
            "dropoff_latitude     1\n",
            "passenger_count      0\n",
            "dtype: int64\n",
            "Number of duplicates: 0\n"
          ]
        }
      ]
    },
    {
      "cell_type": "code",
      "source": [
        "from sklearn.model_selection import train_test_split\n",
        "from sklearn.linear_model import LinearRegression\n",
        "from sklearn.metrics import mean_squared_error\n",
        "\n",
        "# Select features and target variable\n",
        "X = uber_data[['pickup_longitude', 'pickup_latitude', 'dropoff_longitude', 'dropoff_latitude', 'passenger_count']]\n",
        "y = uber_data['fare_amount']\n",
        "\n",
        "# Split the data into training and testing sets\n",
        "X_train, X_test, y_train, y_test = train_test_split(X, y, test_size=0.2, random_state=42)\n",
        "\n",
        "# Create a linear regression model\n",
        "model = LinearRegression()\n",
        "\n",
        "# Fit the model to the training data\n",
        "model.fit(X_train, y_train)\n",
        "\n",
        "# Make predictions on the test data\n",
        "y_pred = model.predict(X_test)\n"
      ],
      "metadata": {
        "id": "cxgbzSw-G59L"
      },
      "execution_count": null,
      "outputs": []
    },
    {
      "cell_type": "code",
      "source": [
        "rmse = np.sqrt(mean_squared_error(y_test, y_pred))\n",
        "print(f\"RMSE: {rmse}\")\n"
      ],
      "metadata": {
        "colab": {
          "base_uri": "https://localhost:8080/"
        },
        "id": "jUa0evhhG9sj",
        "outputId": "6542daaa-750e-4d44-9433-d7c48988e52c"
      },
      "execution_count": null,
      "outputs": [
        {
          "output_type": "stream",
          "name": "stdout",
          "text": [
            "RMSE: 10.197470623964248\n"
          ]
        }
      ]
    },
    {
      "cell_type": "code",
      "source": [],
      "metadata": {
        "id": "T4LMtjFYHNc6"
      },
      "execution_count": null,
      "outputs": []
    },
    {
      "cell_type": "markdown",
      "source": [
        "Assignment 4"
      ],
      "metadata": {
        "id": "FxPWXeVNHNrl"
      }
    },
    {
      "cell_type": "code",
      "source": [
        "import pandas as pd\n",
        "\n",
        "# Load the dataset\n",
        "data = pd.read_csv('/content/uber.csv')\n",
        "data = data.dropna()\n",
        "\n",
        "\n",
        "# Check for missing values\n",
        "missing_values = data.isnull().sum()\n",
        "print(missing_values)\n",
        "\n",
        "# Convert pickup_datetime to a datetime object\n",
        "data['pickup_datetime'] = pd.to_datetime(data['pickup_datetime'])\n",
        "\n",
        "# Check data types and summary statistics\n",
        "print(data.dtypes)\n",
        "print(data.describe())\n"
      ],
      "metadata": {
        "colab": {
          "base_uri": "https://localhost:8080/"
        },
        "id": "tjcUzLo8HPHl",
        "outputId": "9cbfbc5d-b4aa-4d4a-e9f2-290095149527"
      },
      "execution_count": null,
      "outputs": [
        {
          "output_type": "stream",
          "name": "stdout",
          "text": [
            "Unnamed: 0           0\n",
            "key                  0\n",
            "fare_amount          0\n",
            "pickup_datetime      0\n",
            "pickup_longitude     0\n",
            "pickup_latitude      0\n",
            "dropoff_longitude    0\n",
            "dropoff_latitude     0\n",
            "passenger_count      0\n",
            "dtype: int64\n",
            "Unnamed: 0                         int64\n",
            "key                               object\n",
            "fare_amount                      float64\n",
            "pickup_datetime      datetime64[ns, UTC]\n",
            "pickup_longitude                 float64\n",
            "pickup_latitude                  float64\n",
            "dropoff_longitude                float64\n",
            "dropoff_latitude                 float64\n",
            "passenger_count                    int64\n",
            "dtype: object\n",
            "         Unnamed: 0    fare_amount  pickup_longitude  pickup_latitude  \\\n",
            "count  1.999990e+05  199999.000000     199999.000000    199999.000000   \n",
            "mean   2.771248e+07      11.359892        -72.527631        39.935881   \n",
            "std    1.601386e+07       9.901760         11.437815         7.720558   \n",
            "min    1.000000e+00     -52.000000      -1340.648410       -74.015515   \n",
            "25%    1.382534e+07       6.000000        -73.992065        40.734796   \n",
            "50%    2.774524e+07       8.500000        -73.981823        40.752592   \n",
            "75%    4.155535e+07      12.500000        -73.967154        40.767158   \n",
            "max    5.542357e+07     499.000000         57.418457      1644.421482   \n",
            "\n",
            "       dropoff_longitude  dropoff_latitude  passenger_count  \n",
            "count      199999.000000     199999.000000    199999.000000  \n",
            "mean          -72.525292         39.923890         1.684543  \n",
            "std            13.117408          6.794829         1.385995  \n",
            "min         -3356.666300       -881.985513         0.000000  \n",
            "25%           -73.991407         40.733823         1.000000  \n",
            "50%           -73.980093         40.753042         1.000000  \n",
            "75%           -73.963658         40.768001         2.000000  \n",
            "max          1153.572603        872.697628       208.000000  \n"
          ]
        }
      ]
    },
    {
      "cell_type": "code",
      "source": [
        "Q1 = data['fare_amount'].quantile(0.25)\n",
        "Q3 = data['fare_amount'].quantile(0.75)\n",
        "IQR = Q3 - Q1\n",
        "\n",
        "lower_bound = Q1 - 1.5 * IQR\n",
        "upper_bound = Q3 + 1.5 * IQR\n",
        "\n",
        "outliers = data[(data['fare_amount'] < lower_bound) | (data['fare_amount'] > upper_bound)]\n",
        "print(outliers)\n"
      ],
      "metadata": {
        "colab": {
          "base_uri": "https://localhost:8080/"
        },
        "id": "9giY9rpHHWWf",
        "outputId": "7df1d9cd-be22-4f82-d3b1-2cbd10ae2777"
      },
      "execution_count": null,
      "outputs": [
        {
          "output_type": "stream",
          "name": "stdout",
          "text": [
            "        Unnamed: 0                            key  fare_amount  \\\n",
            "6         48725865    2014-10-12 07:04:00.0000002        24.50   \n",
            "30        31945670   2011-05-21 09:00:00.00000031        25.70   \n",
            "34        19277743  2014-06-04 06:49:00.000000102        39.50   \n",
            "39        38703737  2014-02-13 17:57:00.000000102        29.00   \n",
            "48        22405517    2013-01-03 22:24:41.0000002        56.80   \n",
            "...            ...                            ...          ...   \n",
            "199976     1780041  2011-10-18 23:53:00.000000145        49.70   \n",
            "199977    21117828    2012-11-20 21:04:30.0000001        43.50   \n",
            "199982    13096190    2014-08-06 11:06:06.0000001        57.33   \n",
            "199985    25830754    2015-04-18 15:16:06.0000005        24.00   \n",
            "199997    27804658   2009-06-29 00:42:00.00000078        30.90   \n",
            "\n",
            "                 pickup_datetime  pickup_longitude  pickup_latitude  \\\n",
            "6      2014-10-12 07:04:00+00:00        -73.961447        40.693965   \n",
            "30     2011-05-21 09:00:00+00:00        -73.944815        40.834367   \n",
            "34     2014-06-04 06:49:00+00:00        -73.788080        40.642187   \n",
            "39     2014-02-13 17:57:00+00:00        -73.992600        40.753172   \n",
            "48     2013-01-03 22:24:41+00:00        -73.993498        40.764686   \n",
            "...                          ...               ...              ...   \n",
            "199976 2011-10-18 23:53:00+00:00        -73.978225        40.783318   \n",
            "199977 2012-11-20 21:04:30+00:00        -73.996671        40.737483   \n",
            "199982 2014-08-06 11:06:06+00:00        -73.969204        40.754771   \n",
            "199985 2015-04-18 15:16:06+00:00        -74.005089        40.737301   \n",
            "199997 2009-06-29 00:42:00+00:00        -73.986017        40.756487   \n",
            "\n",
            "        dropoff_longitude  dropoff_latitude  passenger_count  \n",
            "6              -73.871195         40.774297                5  \n",
            "30             -73.989332         40.721920                4  \n",
            "34             -73.865042         40.725997                4  \n",
            "39             -73.908508         40.816192                1  \n",
            "48             -73.993498         40.764686                1  \n",
            "...                   ...               ...              ...  \n",
            "199976         -73.700963         40.705852                1  \n",
            "199977         -73.867758         40.897563                1  \n",
            "199982         -73.790351         40.643802                1  \n",
            "199985         -73.945290         40.774162                5  \n",
            "199997         -73.858957         40.692588                2  \n",
            "\n",
            "[17166 rows x 9 columns]\n"
          ]
        }
      ]
    },
    {
      "cell_type": "code",
      "source": [
        "from sklearn.ensemble import RandomForestRegressor\n",
        "from sklearn.model_selection import train_test_split\n",
        "from sklearn.metrics import mean_squared_error\n",
        "\n",
        "# Define features and target variable\n",
        "X = data[['pickup_longitude', 'pickup_latitude', 'dropoff_longitude', 'dropoff_latitude', 'passenger_count']]\n",
        "y = data['fare_amount']\n",
        "\n",
        "# Split the data into training and testing sets\n",
        "X_train, X_test, y_train, y_test = train_test_split(X, y, test_size=0.2, random_state=42)\n",
        "\n",
        "# Initialize and train the random forest model\n",
        "model = RandomForestRegressor(n_estimators=100, random_state=42)\n",
        "model.fit(X_train, y_train)\n",
        "\n",
        "# Make predictions\n",
        "y_pred = model.predict(X_test)\n",
        "\n",
        "# Calculate RMSE score\n",
        "rmse = mean_squared_error(y_test, y_pred, squared=False)\n",
        "print(f\"RMSE: {rmse}\")\n"
      ],
      "metadata": {
        "colab": {
          "base_uri": "https://localhost:8080/"
        },
        "id": "XG34C5z7HZKQ",
        "outputId": "bc9d255e-eccf-499f-a460-33b9be6a98a7"
      },
      "execution_count": null,
      "outputs": [
        {
          "output_type": "stream",
          "name": "stdout",
          "text": [
            "RMSE: 5.576063738722296\n"
          ]
        }
      ]
    },
    {
      "cell_type": "code",
      "source": [],
      "metadata": {
        "id": "1TWtJJ8qIbmQ"
      },
      "execution_count": null,
      "outputs": []
    }
  ]
}